{
  "nbformat": 4,
  "nbformat_minor": 0,
  "metadata": {
    "colab": {
      "name": "edaTERPEL.ipynb",
      "provenance": [],
      "collapsed_sections": [],
      "include_colab_link": true
    },
    "kernelspec": {
      "name": "python3",
      "display_name": "Python 3"
    }
  },
  "cells": [
    {
      "cell_type": "markdown",
      "metadata": {
        "id": "view-in-github",
        "colab_type": "text"
      },
      "source": [
        "<a href=\"https://colab.research.google.com/github/Daniel-Loaiza/Instacart/blob/master/edaTERPEL.ipynb\" target=\"_parent\"><img src=\"https://colab.research.google.com/assets/colab-badge.svg\" alt=\"Open In Colab\"/></a>"
      ]
    },
    {
      "cell_type": "markdown",
      "metadata": {
        "id": "S_OmwlphGCsf",
        "colab_type": "text"
      },
      "source": [
        "# Análisis exploratorio de facturas"
      ]
    },
    {
      "cell_type": "code",
      "metadata": {
        "id": "qIOaKjBTUK3D",
        "colab_type": "code",
        "colab": {}
      },
      "source": [
        "import os\n",
        "import pandas as pd\n",
        "import numpy as np"
      ],
      "execution_count": 0,
      "outputs": []
    },
    {
      "cell_type": "code",
      "metadata": {
        "id": "q8WL8ycWFPSV",
        "colab_type": "code",
        "colab": {
          "base_uri": "https://localhost:8080/",
          "height": 54
        },
        "outputId": "9bd04b8e-5989-4d6a-c020-4e7537770840"
      },
      "source": [
        "from google.colab import drive\n",
        "drive.mount('/content/drive')"
      ],
      "execution_count": 133,
      "outputs": [
        {
          "output_type": "stream",
          "text": [
            "Drive already mounted at /content/drive; to attempt to forcibly remount, call drive.mount(\"/content/drive\", force_remount=True).\n"
          ],
          "name": "stdout"
        }
      ]
    },
    {
      "cell_type": "code",
      "metadata": {
        "id": "jjbD4juUBG3v",
        "colab_type": "code",
        "colab": {
          "base_uri": "https://localhost:8080/",
          "height": 34
        },
        "outputId": "42c14d30-b86a-40fa-ee90-f38d0ddf9de4"
      },
      "source": [
        "% cd '/content/drive/My Drive/TERPEL/MESES DEL AÑO 2019/AGOSTO DEL AÑO 2019'"
      ],
      "execution_count": 134,
      "outputs": [
        {
          "output_type": "stream",
          "text": [
            "/content/drive/My Drive/TERPEL/MESES DEL AÑO 2019/AGOSTO DEL AÑO 2019\n"
          ],
          "name": "stdout"
        }
      ]
    },
    {
      "cell_type": "code",
      "metadata": {
        "id": "mbI6-pBFM3o9",
        "colab_type": "code",
        "colab": {}
      },
      "source": [
        "folder_list = os.listdir()\n",
        "folder_list.sort()\n",
        "#folder_list[0]"
      ],
      "execution_count": 0,
      "outputs": []
    },
    {
      "cell_type": "code",
      "metadata": {
        "id": "arKtRMAeadsL",
        "colab_type": "code",
        "colab": {}
      },
      "source": [
        "sample_files_list = dict()"
      ],
      "execution_count": 0,
      "outputs": []
    },
    {
      "cell_type": "code",
      "metadata": {
        "id": "g6ZL3tRcgZmL",
        "colab_type": "code",
        "colab": {
          "base_uri": "https://localhost:8080/",
          "height": 54
        },
        "outputId": "24bafa02-9437-459e-acdd-3d9535f3da21"
      },
      "source": [
        "for folder in folder_list:\n",
        "  os.chdir('../'+str(folder)+'/')\n",
        "  sample_files_list.update({folder:os.listdir()})\n",
        "print(sample_files_list)"
      ],
      "execution_count": 142,
      "outputs": [
        {
          "output_type": "stream",
          "text": [
            "{'01-08-2018': ['F19OR-140242.pdf', 'F19PN-732612.pdf', 'F19OR-140238.pdf', 'DANPED.pdf', 'F19PN-732609.pdf', 'F19PN-732581.pdf', 'F19OR-140314.pdf', 'MS', 'F19OR-140312.pdf', 'F19OR-140254.pdf', 'F19OR-140237.pdf', 'F19OR-140236.pdf', 'F19OR-140234.pdf', 'F19OR-140235.pdf', 'F19OR-140240.pdf', 'F19OR-140239.pdf', 'F19OR-140241.pdf', 'F19OR-140243.pdf', 'F19PN-732616.pdf', 'F19OR-140287.pdf', 'F19OR-140280.pdf', 'F19OR-140281.pdf', 'F19OR-140279.pdf', 'F19OR-140282.pdf', 'F19OR-140276.pdf', 'F19OR-140277.pdf', 'F19OR-140272.pdf', 'F19OR-140248.pdf', 'F19OR-140247.pdf', 'F19OR-140245.pdf', 'F19OR-140246.pdf', 'F19OR-140259.pdf', 'F19OR-140258.pdf', 'F19OR-140256.pdf', 'F19OR-140257.pdf', 'F19OR-140278.pdf', 'F19OR-140264.pdf', 'F19OR-140262.pdf', 'F19OR-140263.pdf', 'F19OR-140267.pdf', 'F19OR-140269.pdf', 'F19OR-140270.pdf', 'F19OR-140271.pdf', 'F19OR-140265.pdf', 'F19OR-140268.pdf', 'F19OR-140274.pdf', 'F19OR-140275.pdf', 'F19OR-140273.pdf', 'F19OR-140266.pdf', 'F19OR-140249.pdf', 'F19OR-140252.pdf', 'F19OR-140250.pdf', 'F19OR-140251.pdf', 'F19OR-140261.pdf', 'F19OR-140260.pdf', 'F19OR-140255.pdf', 'F19OR-140253.pdf', 'F19OR-140244.pdf', 'F19PN-732614.pdf', 'F19PN-732615.pdf', 'F19PN-732611.pdf', 'F19PN-732613.pdf', 'F19PN-732604.pdf', 'LARRINAGA.pdf', 'F19PN-732608.pdf', 'F19PN-732606.pdf', 'F19PN-732607.pdf', 'F19PN-732597.pdf', 'F19PN-732595.pdf', 'F19PN-732610.pdf', 'F19PN-732600.pdf', 'F19PN-732602.pdf', 'F19PN-732599.pdf', 'F19PN-732601.pdf', 'KALAVRITA.pdf', 'F19PN-732596.pdf', 'F19PN-732598.pdf', 'F19PN-732590.pdf', 'F19PN-732588.pdf', 'F19PN-732589.pdf', 'F19PN-732591.pdf', 'F19PN-732605.pdf', 'F19PN-732603.pdf', 'F19PN-732587.pdf', 'F19OR-140289.pdf', 'F19OR-140290.pdf', 'F19OR-140291.pdf', 'F19PN-732594.pdf', 'F19PN-732593.pdf', 'F19OR-140310.pdf', 'F19OR-140313.pdf', 'F19OR-140311.pdf', 'F19OR-140302.pdf', 'F19OR-140300.pdf', 'F19OR-140301.pdf', 'F19PN-732592.pdf', 'F19OR-140297.pdf', 'F19OR-140295.pdf', 'F19OR-140294.pdf', 'F19OR-140296.pdf', 'F19PN-732583.pdf', 'F19PN-732582.pdf', 'F19PN-732584.pdf', 'F19PN-732585.pdf', 'F19PN-732586.pdf', 'F19OR-140292.pdf', 'F19OR-140293.pdf', 'F19OR-140298.pdf', 'F19OR-140299.pdf', 'F19OR-140303.pdf', 'F19OR-140304.pdf', 'F19OR-140309.pdf', 'F19PN-732580.pdf', 'F19OR-140305.pdf', 'F19OR-140306.pdf', 'F19OR-140307.pdf', 'F19OR-140308.pdf', 'F19OR-140283.pdf', 'F19OR-140284.pdf', 'F19OR-140285.pdf', 'F19OR-140286.pdf', 'F19OR-140288.pdf'], '02-08-2018': ['MS', 'F19OR-140375.pdf', 'F19OR-140374.pdf', 'F19OR-140373.pdf', 'F19OR-140372.pdf', 'F19PN-732631.pdf', 'F19PN-732629.pdf', 'F19PN-732630.pdf', 'MALL1.pdf', 'F19PN-732624.pdf', 'F19PN-732623.pdf', 'F19PN-732625.pdf', 'F19PN-732640.pdf', 'MALL2.pdf', 'MALL3.pdf', 'REPORTE 18-02.08.pdf', 'F19PN-732635.pdf', 'F19PN-732636.pdf', 'F19PN-732637.pdf', 'F19PN-732638.pdf', 'F19PN-732632.pdf', 'F19OR-140371.pdf', 'F19PN-732618.pdf', 'F19OR-140417.pdf', 'F19PN-732617.pdf', 'F19PN-732639.pdf', 'F19PN-732633.pdf', 'F19PN-732628.pdf', 'F19PN-732627.pdf', 'F19PN-732634.pdf', 'F19PN-732622.pdf', 'F19OR-140367.pdf', 'F19OR-140369.pdf', 'F19PN-732626.pdf', 'F19OR-140368.pdf', 'F19OR-140395.pdf', 'F19OR-140370.pdf', 'F19PN-732621.pdf', 'F19PN-732620.pdf', 'F19PN-732619.pdf', 'F19OR-140418.pdf', 'F19OR-140394.pdf', 'F19OR-140377.pdf', 'F19OR-140378.pdf', 'F19OR-140376.pdf'], '03-08-2018': [], '04-08-2018': [], '05-08-2018': ['MS', 'F19PN-732677.pdf', 'F19PN-732674.pdf', 'F19PN-732676.pdf', 'F19PN-732671.pdf', 'F19PN-732666.pdf', 'F19PN-732665.pdf', 'F19PN-732663.pdf', 'F19PN-732664.pdf', 'MIFRAMEANI.pdf', 'F19PN-732673.pdf', 'F19PN-732670.pdf', 'F19PN-732668.pdf', 'F19PN-732669.pdf', 'F19PN-732643.pdf', 'F19PN-732641.pdf', 'F19PN-732672.pdf', 'F19PN-732649.pdf', 'F19PN-732642.pdf', 'F19OR-140552.pdf', 'F19PN-732667.pdf', 'F19PN-732657.pdf', 'F19PN-732658.pdf', 'F19PN-732659.pdf', 'F19PN-732662.pdf', 'F19PN-732653.pdf', 'F19PN-732654.pdf', 'F19PN-732661.pdf', 'F19OR-140474.pdf', '732669.pdf', 'F19OR-140468.pdf', '114127.pdf', 'F19OR-140472.pdf', 'F19OR-140470.pdf', 'F19PN-732650.pdf', 'F19OR-140551.pdf', 'F19PN-732648.pdf', 'F19OR-140469.pdf', 'F19OR-140478.pdf', 'F19OR-140473.pdf', 'F19PN-732644.pdf', 'F19OR-140471.pdf', 'F19PN-732647.pdf', 'F19OR-140477.pdf', 'F19PN-732646.pdf', 'F19PN-732660.pdf', 'F19PN-732655.pdf', 'F19OR-140476.pdf', 'F19PN-732652.pdf', 'F19OR-140475.pdf', 'F19PN-732656.pdf', 'F19PN-732645.pdf', 'F19PN-732651.pdf', 'F19OR-140550.pdf', 'F19PN-732675.pdf'], '06-08-2018': ['MS', 'F19PN-732691.pdf', 'F19PN-732688.pdf', 'F19PN-732689.pdf', 'F19PN-732690.pdf', 'F19PN-732703.pdf', 'F19PN-732702.pdf', 'F19PN-732695.pdf', 'F19PN-732693.pdf', 'F19PN-732694.pdf', 'F19PN-732701.pdf', 'F19PN-732698.pdf', 'F19PN-732700.pdf', 'F19PN-732699.pdf', 'F19PN-732697.pdf', 'F19PN-732696.pdf', 'F19PN-732692.pdf', 'F19PN-732685.pdf', 'F19PN-732684.pdf', 'F19PN-732686.pdf', 'F19PN-732687.pdf', 'F19PN-732683.pdf', 'F19PN-732682.pdf', 'F19PN-732681.pdf', 'CARMEN.pdf', 'F19OR-140553.pdf', 'F19PN-732679.pdf', 'F19PN-732678.pdf', 'F19PN-732680.pdf'], '07-08-2018': ['MS', 'F19OR-140701.pdf', 'CRISTALINA.pdf', 'F19OR-140698.pdf', 'F19OR-140699.pdf', 'F19OR-140700.pdf', 'APPETITO.pdf', 'F19PN-732741.pdf', '732663.pdf', 'AGUASEO1.pdf', 'AGUASEO2.pdf', 'F19PN-732727.pdf', 'F19PN-732726.pdf', 'F19PN-732724.pdf', 'F19PN-732722.pdf', 'F19OR-140714.pdf', 'F19OR-140697.pdf', 'F19PN-732754.pdf', 'MALL.pdf', 'F19PN-732746.pdf', 'F19PN-732753.pdf', 'F19PN-732751.pdf', 'F19PN-732750.pdf', 'F19PN-732748.pdf', 'F19PN-732742.pdf', 'F19PN-732745.pdf', 'F19PN-732743.pdf', 'F19PN-732744.pdf', 'F19PN-732752.pdf', 'F19PN-732739.pdf', 'F19PN-732737.pdf', 'F19PN-732738.pdf', 'F19PN-732734.pdf', 'F19PN-732733.pdf', 'F19PN-732731.pdf', 'F19PN-732732.pdf', 'F19PN-732749.pdf', 'F19PN-732747.pdf', 'F19PN-732715.pdf', 'F19PN-732740.pdf', 'F19PN-732723.pdf', 'F19PN-732725.pdf', 'F19PN-732736.pdf', 'F19PN-732728.pdf', 'F19PN-732735.pdf', 'F19PN-732730.pdf', 'F19PN-732718.pdf', 'F19PN-732719.pdf', 'F19PN-732729.pdf', 'F19PN-732721.pdf', 'F19PN-732716.pdf', 'F19PN-732717.pdf', 'F19OR-140710.pdf', 'F19OR-140711.pdf', 'F19OR-140708.pdf', 'F19OR-140709.pdf', 'F19PN-732720.pdf', 'F19PN-732710.pdf', 'F19OR-140800.pdf', 'F19OR-140799.pdf', 'F19OR-140801.pdf', 'F19PN-732712.pdf', 'F19PN-732713.pdf', 'F19PN-732714.pdf', 'F19PN-732711.pdf', 'F19OR-140706.pdf', 'F19OR-140704.pdf', 'F19OR-140705.pdf', 'F19PN-732704.pdf', 'F19PN-732707.pdf', 'F19PN-732709.pdf', 'F19PN-732708.pdf', 'F19PN-732705.pdf', 'F19PN-732706.pdf', 'F19OR-140713.pdf', 'F19OR-140712.pdf', 'F19OR-140707.pdf', 'F19OR-140703.pdf', 'F19OR-140702.pdf'], '08-08-2018': ['MS', 'F19PN-732771.pdf', 'F19PN-732761.pdf', 'F19PN-732767.pdf', 'F19OR-140896.pdf', 'F19PN-732756.pdf', 'F19OR-140903.pdf', 'F19PN-732762.pdf', 'F19PN-732764.pdf', 'F19PN-732766.pdf', 'F19PN-732763.pdf', 'F19PN-732760.pdf', 'F19PN-732755.pdf', 'F19PN-732758.pdf', 'F19PN-732757.pdf', 'F19PN-732759.pdf', 'F19OR-140898.pdf', 'F19OR-140897.pdf', 'F19OR-140901.pdf', 'F19OR-140902.pdf', 'F19OR-140900.pdf', 'F19PN-732779.pdf', 'F19PN-732775.pdf', 'F19PN-732774.pdf', 'F19PN-732765.pdf', 'F19OR-140904.pdf', 'F19OR-140899.pdf', 'F19PN-732815.pdf', 'F19PN-732812.pdf', 'F19PN-732811.pdf', 'F19PN-732809.pdf', 'F19PN-732810.pdf', 'F19PN-732806.pdf', 'F19PN-732805.pdf', 'F19PN-732804.pdf', 'F19PN-732813.pdf', 'F19PN-732814.pdf', 'F19PN-732787.pdf', 'F19PN-732808.pdf', 'F19PN-732801.pdf', 'F19PN-732800.pdf', 'F19PN-732798.pdf', 'F19PN-732799.pdf', 'F19PN-732807.pdf', 'F19PN-732803.pdf', 'F19PN-732802.pdf', 'F19PN-732790.pdf', 'F19PN-732791.pdf', 'F19PN-732788.pdf', 'F19PN-732789.pdf', 'F19PN-732797.pdf', 'F19PN-732772.pdf', 'F19PN-732794.pdf', 'F19PN-732793.pdf', 'F19PN-732795.pdf', 'F19PN-732777.pdf', 'F19PN-732778.pdf', 'F19PN-732773.pdf', 'F19PN-732776.pdf', 'F19PN-732796.pdf', 'F19PN-732784.pdf', 'F19PN-732782.pdf', 'F19PN-732783.pdf', 'F19PN-732792.pdf', 'F19PN-732786.pdf', 'F19PN-732770.pdf', 'F19PN-732768.pdf', 'F19PN-732769.pdf', 'F19PN-732785.pdf', 'F19PN-732781.pdf', 'F19PN-732780.pdf'], '09-08-2018': ['MS', 'F19OR-141012.pdf', 'F19PN-732833.pdf', 'F19OR-141011.pdf', 'F19OR-141010.pdf', 'S209082019142908984.pdf', 'F19PN-732838.pdf', 'F19PN-732839.pdf', 'F19PN-732836.pdf', 'F19PN-732837.pdf', 'F19PN-732842.pdf', 'F19PN-732843.pdf', 'F19PN-732844.pdf', 'F19PN-732846.pdf', 'F19PN-732830.pdf', 'F19PN-732831.pdf', 'F19PN-732828.pdf', 'F19PN-732829.pdf', 'F19PN-732845.pdf', 'F19PN-732825.pdf', 'F19PN-732824.pdf', 'F19PN-732826.pdf', 'F19PN-732835.pdf', 'F19PN-732841.pdf', 'F19PN-732834.pdf', 'F19PN-732712.pdf', 'F19PN-732816.pdf', 'F19OR-141009.pdf', 'F19OR-141013.pdf', 'F19PN-732832.pdf', 'AVIS4.pdf', 'F19PN-732820.pdf', 'F19PN-732818.pdf', 'F19PN-732819.pdf', 'F19PN-732827.pdf', 'F19PN-732823.pdf', 'F19PN-732822.pdf', 'AVIS1.pdf', 'AVIS2.pdf', 'F19PN-732821.pdf', 'F19PN-732817.pdf', 'AVIS3.pdf', 'F19PN-732840.pdf'], '10-08-2018': [], '11-08-2018': [], '12-08-2018': ['F19OR-149557.pdf', 'F19OR-149560.pdf', 'F19OR-149559.pdf', 'F19OR-149561.pdf', 'F19OR-149556.pdf', 'F19OR-149558.pdf', 'F19OR-149562.pdf'], '13-08-2018': ['F19PN-732891.pdf', 'F19PN-732884.pdf', 'F19OR-141025.pdf', 'F19OR-141021.pdf', 'KALAVRITA2.pdf', 'KALAVRITA.pdf', 'F19PN-732857.pdf', 'F19PN-732892.pdf', 'F19PN-732890.pdf', 'NAVARRO.pdf', 'MENDEZ.pdf', 'F19PN-732893.pdf', 'F19PN-732889.pdf', 'F19PN-732896.pdf', 'IRON.pdf', 'F19PN-732897.pdf', 'F19PN-732886.pdf', 'F19PN-732887.pdf', 'F19PN-732888.pdf', 'F19PN-732894.pdf', 'F19PN-732876.pdf', 'F19PN-732874.pdf', 'F19PN-732875.pdf', 'F19PN-732872.pdf', 'F19PN-732873.pdf', 'F19PN-732895.pdf', 'F19PN-732883.pdf', 'F19PN-732877.pdf', 'F19PN-732878.pdf', 'F19PN-732885.pdf', 'F19PN-732882.pdf', 'F19PN-732881.pdf', 'F19PN-732864.pdf', 'F19PN-732862.pdf', 'F19PN-732863.pdf', 'F19PN-732865.pdf', 'F19PN-732860.pdf', 'F19PN-732859.pdf', 'F19PN-732861.pdf', 'F19PN-732880.pdf', 'F19PN-732879.pdf', 'F19PN-732858.pdf', 'F19PN-732871.pdf', 'F19PN-732870.pdf', 'F19PN-732852.pdf', 'F19PN-732851.pdf', 'F19PN-732850.pdf', 'F19PN-732847.pdf', 'F19PN-732848.pdf', 'F19OR-141046.pdf', 'F19PN-732849.pdf', 'F19PN-732869.pdf', 'F19PN-732868.pdf', 'F19PN-732867.pdf', 'F19PN-732866.pdf', 'F19OR-141036.pdf', 'F19OR-141039.pdf', 'F19OR-141038.pdf', 'F19OR-141034.pdf', 'F19OR-141037.pdf', 'F19OR-141033.pdf', 'F19OR-141035.pdf', 'F19PN-732856.pdf', 'F19PN-732854.pdf', 'F19PN-732853.pdf', 'F19PN-732855.pdf', 'F19OR-141045.pdf', 'F19OR-141022.pdf', 'F19OR-141019.pdf', 'F19OR-141020.pdf', 'F19OR-141040.pdf', 'F19OR-141023.pdf', 'F19OR-141042.pdf', 'F19OR-141044.pdf', 'F19OR-141043.pdf', 'F19OR-141041.pdf', 'F19OR-141024.pdf', 'F19OR-141026.pdf', 'F19OR-141027.pdf', 'F19OR-141032.pdf', 'F19OR-141030.pdf', 'F19OR-141031.pdf', 'CARMEN2.pdf', 'F19OR-141028.pdf', 'F19OR-141029.pdf', 'F19OR-141016.pdf', 'F19OR-141018.pdf', 'F19OR-141017.pdf', 'CARMEN1.pdf', 'F19OR-141015.pdf', 'F19OR-141014.pdf', 'CARMEN3.pdf'], '14-08-2018': ['MS', 'F19PN-732935.pdf', 'F19PN-732931.pdf', 'F19PN-732928.pdf', 'F19PN-732913.pdf', 'F19PN-732909.pdf', 'F19PN-732908.pdf', 'F19PN-732940.pdf', 'F19PN-732930.pdf', 'F19PN-732929.pdf', 'F19PN-732925.pdf', 'F19PN-732927.pdf', 'F19PN-732924.pdf', 'F19PN-732919.pdf', 'F19PN-732922.pdf', 'F19PN-732921.pdf', 'F19PN-732920.pdf', 'F19PN-732926.pdf', 'F19PN-732923.pdf', 'F19PN-732900.pdf', 'F19PN-732902.pdf', 'F19PN-732899.pdf', 'F19PN-732901.pdf', 'F19PN-732903.pdf', 'F19PN-732917.pdf', 'F19PN-732918.pdf', 'F19PN-732916.pdf', 'F19PN-732915.pdf', 'F19PN-732914.pdf', 'F19PN-732904.pdf', 'F19PN-732905.pdf', 'F19PN-732910.pdf', 'F19PN-732912.pdf', 'F19PN-732911.pdf', 'F19PN-732907.pdf', 'F19PN-732906.pdf', 'F19PN-732898.pdf', 'F19OR-141068.pdf', 'F19OR-141066.pdf', 'F19OR-141067.pdf', 'CRISTALINA.pdf', 'F19OR-141047.pdf', 'F19OR-141048.pdf', 'F19OR-141065.pdf', 'F19PN-732937.pdf', 'F19PN-732932.pdf', 'F19PN-732933.pdf', 'F19PN-732934.pdf', 'F19PN-732936.pdf', 'F19PN-732938.pdf', 'F19PN-732939.pdf', 'F19PN-732941.pdf', 'F19PN-732942.pdf', 'WALDORF.pdf', 'F19PN-732943.pdf'], '15-08-2018': ['MS', 'F19PN-732970.pdf', 'F19PN-732951.pdf', 'F19PN-732973.pdf', 'F19PN-732964.pdf', 'F19PN-732961.pdf', 'F19PN-732965.pdf', 'F19PN-732960.pdf', 'F19PN-732963.pdf', 'F19PN-732972.pdf', 'F19PN-732969.pdf', 'F19PN-732962.pdf', 'F19PN-732966.pdf', 'F19PN-732952.pdf', 'F19PN-732953.pdf', 'F19PN-732949.pdf', 'F19PN-732950.pdf', 'F19PN-732971.pdf', 'F19PN-732947.pdf', 'F19PN-732946.pdf', 'F19PN-732948.pdf', 'F19PN-732968.pdf', 'F19PN-732957.pdf', 'F19PN-732958.pdf', 'F19PN-732959.pdf', 'F19PN-732967.pdf', 'F19PN-732956.pdf', 'F19PN-732955.pdf', 'F19PN-732954.pdf', 'F19PN-732944.pdf', 'F19PN-732945.pdf'], '16-08-2018': ['F19OR-141199.pdf', 'F19OR-141247.pdf', 'F19OR-141235.pdf', 'F19OR-141227.pdf', 'F19OR-141204.pdf', 'F19OR-141229.pdf', 'F19OR-141212.pdf', 'F19OR-141208.pdf', 'F19OR-141209.pdf', 'F19OR-141230.pdf', 'F19OR-141210.pdf', 'F19OR-141222.pdf', 'F19OR-141223.pdf', 'F19OR-141214.pdf', 'F19OR-141211.pdf', 'F19OR-141213.pdf', 'F19OR-141220.pdf', 'F19OR-141221.pdf', 'F19OR-141219.pdf', 'F19OR-141218.pdf', 'F19OR-141217.pdf', 'F19OR-141216.pdf', 'F19OR-141195.pdf', 'F19OR-141194.pdf', 'F19OR-141193.pdf', 'F19OR-141196.pdf', 'F19OR-141207.pdf', 'F19OR-141215.pdf', 'F19OR-141206.pdf', 'F19OR-141197.pdf', 'F19OR-141198.pdf', 'F19OR-141205.pdf', 'F19OR-141203.pdf', 'F19OR-141202.pdf', 'F19OR-141201.pdf', 'F19OR-141200.pdf', 'F19OR-141228.pdf', 'F19OR-141225.pdf', 'F19OR-141224.pdf', 'F19OR-141226.pdf', 'F19OR-141241.pdf', 'F19OR-141240.pdf', 'F19OR-141239.pdf', 'F19OR-141238.pdf', 'F19OR-141248.pdf', 'F19OR-141246.pdf', 'F19OR-141234.pdf', 'F19OR-141237.pdf', 'F19OR-141236.pdf', 'F19OR-141245.pdf', 'F19OR-141244.pdf', 'F19OR-141242.pdf', 'F19OR-141243.pdf', 'F19OR-141233.pdf', 'F19OR-141232.pdf', 'F19OR-141231.pdf'], '17-08-2018': [], '18-08-2018': [], '19-08-2018': ['F19OR-153472.pdf', 'F19OR-153471.pdf', 'F19OR-153470.pdf', 'F19OR-153469.pdf', 'F19OR-153438.pdf', 'F19OR-153437.pdf', 'F19PN-732974.pdf', 'F19OR-153468.pdf', 'F19PN-732975.pdf', 'F19OR-153467.pdf', 'F19OR-153466.pdf', 'F19OR-153465.pdf', 'F19OR-153458.pdf', 'F19OR-153459.pdf', 'F19OR-153464.pdf', 'F19OR-153463.pdf', 'F19OR-153451.pdf', 'F19OR-153444.pdf', 'F19OR-153443.pdf', 'F19OR-153445.pdf', 'F19OR-153462.pdf', 'F19OR-153461.pdf', 'F19OR-153456.pdf', 'F19OR-153455.pdf', 'F19OR-153457.pdf', 'F19OR-153460.pdf', 'F19OR-153454.pdf', 'F19OR-153453.pdf', 'F19OR-153452.pdf', 'F19OR-153450.pdf', 'F19OR-153449.pdf', 'F19OR-153448.pdf', 'F19OR-153447.pdf', 'F19OR-153439.pdf', 'F19OR-153440.pdf', 'F19OR-153441.pdf', 'F19OR-153442.pdf', 'F19OR-153446.pdf'], '20-08-2018': ['F19PN-733037.pdf', 'F19PN-733028.pdf', 'F19PN-733038.pdf', 'F19PN-733027.pdf', 'F19PN-733025.pdf', 'F19PN-733036.pdf', 'F19PN-733026.pdf', 'F19PN-733006.pdf', 'F19PN-733005.pdf', 'F19PN-733004.pdf', 'F19PN-733013.pdf', 'F19PN-733015.pdf', 'F19PN-733003.pdf', 'F19PN-733002.pdf', 'F19PN-733000.pdf', 'F19PN-733001.pdf', 'F19PN-733019.pdf', 'F19PN-733020.pdf', 'F19PN-733022.pdf', 'F19PN-733021.pdf', 'F19PN-733023.pdf', 'F19PN-733016.pdf', 'F19PN-733018.pdf', 'F19PN-733024.pdf', 'F19PN-733017.pdf', 'F19PN-732988.pdf', 'F19PN-733012.pdf', 'F19PN-733011.pdf', 'F19PN-732991.pdf', 'F19PN-732992.pdf', 'F19PN-732989.pdf', 'F19PN-732990.pdf', 'F19PN-732996.pdf', 'F19PN-732995.pdf', 'F19PN-732997.pdf', 'F19PN-733009.pdf', 'F19PN-733008.pdf', 'F19PN-732999.pdf', 'F19PN-732998.pdf', 'F19PN-732985.pdf', 'F19PN-732980.pdf', 'F19PN-732981.pdf', 'F19PN-732978.pdf', 'F19PN-732979.pdf', 'F19PN-732984.pdf', 'F19PN-732986.pdf', 'F19OR-153479.pdf', 'F19OR-153480.pdf', 'F19OR-153481.pdf', 'F19PN-732993.pdf', 'F19PN-732994.pdf', 'F19PN-732987.pdf', 'F19PN-732983.pdf', 'F19OR-153476.pdf', 'F19OR-153475.pdf', 'F19OR-153474.pdf', 'F19OR-153478.pdf', 'F19PN-732982.pdf', 'F19PN-732977.pdf', 'F19PN-732976.pdf', 'F19OR-153477.pdf', 'F19PN-733042.pdf', 'F19PN-733040.pdf', 'F19PN-733014.pdf', 'F19PN-733007.pdf', 'F19PN-733034.pdf', 'F19PN-733033.pdf', 'F19PN-733035.pdf', 'F19PN-733032.pdf', 'F19PN-733031.pdf', 'F19PN-733029.pdf', 'F19PN-733030.pdf', 'F19PN-733044.pdf', 'F19PN-733043.pdf', 'F19PN-733041.pdf', 'F19PN-733039.pdf'], '21-08-2018': ['MS', 'F19PN-733048.pdf', 'F19PN-733047.pdf', 'F19PN-733045.pdf', 'F19OR-141260.pdf', 'F19OR-141258.pdf', 'F19OR-141256.pdf', 'F19OR-141255.pdf', 'F19OR-141249.pdf', 'F19PN-733120.pdf', 'F19PN-733106.pdf', 'F19PN-733096.pdf', 'F19PN-733095.pdf', 'F19PN-733094.pdf', 'F19PN-733093.pdf', 'F19PN-733073.pdf', 'F19PN-733061.pdf', 'F19PN-733060.pdf', 'F19PN-733059.pdf', 'F19PN-733056.pdf', 'F19PN-733118.pdf', 'F19PN-733124.pdf', 'F19PN-733090.pdf', 'F19PN-733122.pdf', 'F19PN-733123.pdf', 'F19PN-733109.pdf', 'F19PN-733115.pdf', 'F19PN-733114.pdf', 'F19PN-733116.pdf', 'F19PN-733086.pdf', 'F19PN-733085.pdf', 'F19PN-733087.pdf', 'F19PN-733082.pdf', 'F19PN-733084.pdf', 'F19PN-733081.pdf', 'F19PN-733083.pdf', 'F19PN-733112.pdf', 'F19PN-733121.pdf', 'F19PN-733107.pdf', 'F19PN-733119.pdf', 'F19PN-733110.pdf', 'F19PN-733111.pdf', 'F19PN-733113.pdf', 'F19PN-733117.pdf', 'F19PN-733108.pdf', 'F19PN-733105.pdf', 'F19PN-733092.pdf', 'F19PN-733103.pdf', 'F19PN-733104.pdf', 'F19PN-733091.pdf', 'F19PN-733102.pdf', 'F19PN-733097.pdf', 'F19PN-733071.pdf', 'F19PN-733068.pdf', 'F19PN-733070.pdf', 'F19PN-733098.pdf', 'F19PN-733099.pdf', 'F19PN-733100.pdf', 'F19PN-733101.pdf', 'F19PN-733069.pdf', 'F19PN-733088.pdf', 'F19PN-733089.pdf', 'F19PN-733080.pdf', 'F19PN-733079.pdf', 'F19PN-733067.pdf', 'F19PN-733065.pdf', 'F19PN-733066.pdf', 'F19PN-733078.pdf', 'F19PN-733077.pdf', 'F19PN-733075.pdf', 'F19PN-733076.pdf', 'F19PN-733072.pdf', 'CRISTALINA.pdf', 'F19OR-141251.pdf', 'F19OR-141250.pdf', 'CARMEN.pdf', 'F19PN-733074.pdf', 'F19PN-733064.pdf', 'F19PN-733053.pdf', 'F19PN-733051.pdf', 'F19PN-733052.pdf', 'F19PN-733054.pdf', 'F19PN-733057.pdf', 'F19PN-733046.pdf', 'F19PN-733049.pdf', 'F19PN-733050.pdf', 'F19PN-733063.pdf', 'F19PN-733062.pdf', 'F19PN-733058.pdf', 'F19PN-733165.pdf', 'F19PN-733055.pdf', 'F19OR-141262.pdf', 'F19OR-141261.pdf', 'F19OR-141259.pdf', 'F19OR-141257.pdf', 'F19OR-141254.pdf', 'F19OR-141253.pdf', 'F19OR-141252.pdf', 'F19PN-733138.pdf', 'F19PN-733167.pdf', 'F19PN-733134.pdf', 'F19PN-733126.pdf', 'MENDEZ2.pdf', 'F19PN-733160.pdf', 'F19PN-733161.pdf', 'F19PN-733156.pdf', 'F19PN-733159.pdf', 'MENDEZ1.pdf', 'F19PN-733155.pdf', 'F19PN-733158.pdf', 'F19PN-733157.pdf', 'F19PN-733168.pdf', 'F19PN-733164.pdf', 'F19PN-733166.pdf', 'F19PN-733144.pdf', 'F19PN-733146.pdf', 'F19PN-733147.pdf', 'F19PN-733145.pdf', 'F19PN-733148.pdf', 'F19PN-733163.pdf', 'F19PN-733162.pdf', 'F19PN-733154.pdf', 'F19PN-733153.pdf', 'F19PN-733131.pdf', 'F19PN-733130.pdf', 'F19PN-733132.pdf', 'F19PN-733152.pdf', 'F19PN-733142.pdf', 'F19PN-733151.pdf', 'F19PN-733127.pdf', 'F19PN-733129.pdf', 'F19PN-733125.pdf', 'F19PN-733128.pdf', 'F19PN-733143.pdf', 'F19PN-733150.pdf', 'F19PN-733141.pdf', 'F19PN-733140.pdf', 'F19PN-733149.pdf', 'F19PN-733139.pdf', 'F19PN-733137.pdf', 'F19PN-733136.pdf', 'F19PN-733135.pdf', 'F19PN-733133.pdf'], '22-08-2018': ['MS', 'F19PN-733179.pdf', 'F19PN-733169.pdf', 'F19OR-141327.pdf', 'F19PN-733185.pdf', 'F19PN-733187.pdf', 'F19PN-733176.pdf', 'F19PN-733170.pdf', 'F19OR-141340.pdf', 'F19PN-733186.pdf', 'F19PN-733174.pdf', 'F19PN-733175.pdf', 'F19PN-733173.pdf', 'F19PN-733172.pdf', 'F19PN-733171.pdf', 'F19PN-733197.pdf', 'F19PN-733196.pdf', 'F19PN-733192.pdf', 'F19PN-733195.pdf', 'F19PN-733194.pdf', 'F19PN-733191.pdf', 'F19PN-733193.pdf', 'F19PN-733184.pdf', 'F19PN-733180.pdf', 'F19PN-733183.pdf', 'F19PN-733182.pdf', 'F19PN-733181.pdf', 'F19PN-733177.pdf', 'F19PN-733178.pdf', 'MALL3.pdf', 'MALL2.pdf', 'F19PN-733190.pdf', 'MALL1.pdf', 'F19PN-733189.pdf', 'F19PN-733188.pdf'], '23-08-2018': ['MS', 'F19PN-733213.pdf', 'F19PN-733198.pdf', 'F19OR-141481.pdf', 'F19OR-141480.pdf', 'F19PN-733227.pdf', 'F19PN-733229.pdf', 'F19PN-733228.pdf', 'F19PN-733230.pdf', 'F19PN-733226.pdf', 'F19PN-733231.pdf', 'F19PN-733215.pdf', 'F19PN-733218.pdf', 'F19PN-733216.pdf', 'F19PN-733217.pdf', 'F19PN-733212.pdf', 'F19PN-733214.pdf', 'F19PN-733224.pdf', 'F19PN-733225.pdf', 'F19PN-733222.pdf', 'F19PN-733219.pdf', 'F19PN-733223.pdf', 'F19PN-733220.pdf', 'F19PN-733202.pdf', 'F19PN-733199.pdf', 'F19PN-733201.pdf', 'F19OR-141482.pdf', 'F19PN-733200.pdf', 'F19PN-733221.pdf', 'F19PN-733211.pdf', 'F19PN-733210.pdf', 'F19PN-733209.pdf', 'F19PN-733203.pdf', 'F19PN-733204.pdf', 'F19PN-733208.pdf', 'F19PN-733207.pdf', 'F19OR-141479.pdf', 'F19OR-141477.pdf', 'F19PN-733206.pdf', 'F19PN-733205.pdf', 'F19OR-141478.pdf'], '24-08-2018': [], '25-08-2018': [], '26-08-2018': ['MS', 'F19PN-733261.pdf', 'F19PN-733248.pdf', 'F19OR-141574.pdf', 'F19OR-141548.pdf', 'F19OR-141542.pdf', 'F19PN-733299.pdf', 'F19PN-733298.pdf', 'F19PN-733281.pdf', 'F19PN-733279.pdf', 'F19PN-733273.pdf', 'F19PN-733269.pdf', 'F19OR-141554.pdf', 'F19OR-141567.pdf', 'F19OR-141566.pdf', 'F19OR-141564.pdf', 'F19OR-141560.pdf', 'F19OR-141562.pdf', 'F19OR-141563.pdf', 'F19OR-141565.pdf', 'F19OR-141559.pdf', 'F19OR-141558.pdf', 'F19OR-141561.pdf', 'F19OR-141556.pdf', 'F19OR-141557.pdf', 'F19OR-141537.pdf', 'F19OR-141535.pdf', 'F19OR-141536.pdf', 'F19OR-141555.pdf', 'F19OR-141534.pdf', 'F19OR-141533.pdf', 'F19OR-141531.pdf', 'F19OR-141532.pdf', 'F19OR-141546.pdf', 'F19OR-141544.pdf', 'F19OR-141553.pdf', 'F19OR-141552.pdf', 'F19OR-141545.pdf', 'F19OR-141550.pdf', 'F19OR-141551.pdf', 'F19OR-141549.pdf', 'F19OR-141547.pdf', 'F19OR-141541.pdf', 'F19OR-141543.pdf', 'F19OR-141540.pdf', 'F19OR-141539.pdf', 'F19OR-141538.pdf', 'F19OR-141529.pdf', 'F19OR-141522.pdf', 'F19OR-141524.pdf', 'F19OR-141523.pdf', 'F19OR-141521.pdf', 'F19OR-141530.pdf', 'F19OR-141528.pdf', 'F19OR-141519.pdf', 'F19OR-141518.pdf', 'F19OR-141527.pdf', 'F19OR-141526.pdf', 'F19OR-141525.pdf', 'F19OR-141520.pdf', 'F19OR-141516.pdf', 'F19OR-141515.pdf', 'F19OR-141517.pdf', 'F19OR-141506.pdf', 'F19OR-141503.pdf', 'F19OR-141504.pdf', 'F19OR-141489.pdf', 'F19OR-141494.pdf', 'F19OR-141496.pdf', 'F19OR-141492.pdf', 'F19OR-141495.pdf', 'F19OR-141491.pdf', 'F19OR-141493.pdf', 'F19OR-141513.pdf', 'F19OR-141508.pdf', 'F19OR-141505.pdf', 'F19OR-141512.pdf', 'F19OR-141514.pdf', 'F19OR-141509.pdf', 'F19OR-141507.pdf', 'F19OR-141511.pdf', 'F19OR-141502.pdf', 'F19OR-141510.pdf', 'F19OR-141501.pdf', 'F19OR-141500.pdf', 'F19OR-141499.pdf', 'F19OR-141490.pdf', 'F19OR-141498.pdf', 'F19OR-141497.pdf', 'F19OR-141488.pdf', 'F19OR-141487.pdf', '733165.pdf', 'F19OR-141486.pdf', 'F19OR-141485.pdf', 'F19OR-141484.pdf', 'F19OR-141483.pdf', 'F19PN-733280.pdf', 'F19PN-733282.pdf', 'F19PN-733277.pdf', 'F19PN-733278.pdf', 'F19PN-733275.pdf', 'F19PN-733276.pdf', 'F19PN-733294.pdf', 'F19PN-733295.pdf', 'F19PN-733292.pdf', 'F19PN-733293.pdf', 'F19PN-733296.pdf', 'MENDEZ.pdf', 'F19PN-733300.pdf', 'MENDEZ2.pdf', 'F19PN-733290.pdf', 'F19PN-733291.pdf', 'F19PN-733289.pdf', 'F19PN-733262.pdf', 'F19PN-733260.pdf', 'F19PN-733258.pdf', 'F19PN-733259.pdf', 'F19PN-733288.pdf', 'F19PN-733263.pdf', 'F19PN-733287.pdf', 'F19PN-733283.pdf', 'F19PN-733286.pdf', 'F19PN-733249.pdf', 'F19PN-733247.pdf', 'F19PN-733245.pdf', 'F19PN-733246.pdf', 'F19PN-733243.pdf', 'F19PN-733244.pdf', 'F19PN-733250.pdf', 'F19PN-733285.pdf', 'F19PN-733265.pdf', 'F19PN-733284.pdf', 'F19PN-733264.pdf', 'F19PN-733274.pdf', 'F19PN-733272.pdf', 'F19PN-733271.pdf', 'F19PN-733270.pdf', 'F19PN-733268.pdf', 'F19PN-733267.pdf', 'F19PN-733266.pdf', 'F19PN-733257.pdf', 'F19PN-733256.pdf', 'F19PN-733255.pdf', 'F19OR-141588.pdf', 'F19OR-141585.pdf', 'F19PN-733253.pdf', 'F19PN-733254.pdf', 'F19OR-141587.pdf', 'F19OR-141586.pdf', 'F19PN-733252.pdf', 'F19PN-733251.pdf', 'F19PN-733240.pdf', 'F19PN-733242.pdf', 'F19OR-141618.pdf', 'F19PN-733232.pdf', 'F19OR-141617.pdf', 'F19PN-733241.pdf', 'F19PN-733239.pdf', 'F19PN-733238.pdf', 'F19PN-733237.pdf', 'F19PN-733236.pdf', 'F19PN-733233.pdf', 'F19PN-733235.pdf', 'F19OR-141573.pdf', 'F19OR-141575.pdf', 'F19OR-141571.pdf', 'F19OR-141572.pdf', 'F19OR-141578.pdf', 'F19OR-141581.pdf', 'F19PN-733234.pdf', 'F19OR-141584.pdf', 'F19OR-141577.pdf', 'F19OR-141576.pdf', 'F19OR-141583.pdf', 'F19OR-141582.pdf', 'F19OR-141580.pdf', 'F19OR-141579.pdf', 'F19OR-141568.pdf', 'F19OR-141569.pdf', 'F19OR-141570.pdf'], '27-08-2018': ['MS', 'F19OR-141655.pdf', 'F19OR-141654.pdf', 'F19OR-141640.pdf', 'F19PN-733355.pdf', 'F19PN-733354.pdf', 'F19PN-733353.pdf', 'F19PN-733352.pdf', 'F19PN-733351.pdf', 'F19PN-733350.pdf', 'F19PN-733349.pdf', 'F19PN-733336.pdf', 'F19PN-733325.pdf', 'F19PN-733309.pdf', 'F19PN-733308.pdf', 'F19PN-733306.pdf', 'F19PN-733305.pdf', 'F19PN-733304.pdf', 'F19PN-733303.pdf', 'F19PN-733302.pdf', 'F19PN-733301.pdf', 'F19PN-733297.pdf', 'F19OR-141674.pdf', 'F19PN-733346.pdf', 'F19PN-733345.pdf', 'F19PN-733343.pdf', 'F19PN-733344.pdf', 'F19PN-733335.pdf', 'F19PN-733337.pdf', 'F19PN-733338.pdf', 'F19PN-733340.pdf', 'F19PN-733339.pdf', 'F19PN-733341.pdf', 'F19PN-733342.pdf', 'F19PN-733334.pdf', 'F19PN-733324.pdf', 'F19PN-733327.pdf', 'F19PN-733326.pdf', 'F19PN-733333.pdf', 'F19PN-733323.pdf', 'F19PN-733320.pdf', 'F19PN-733321.pdf', 'F19PN-733322.pdf', 'F19PN-733332.pdf', 'F19PN-733331.pdf', 'F19PN-733313.pdf', 'F19PN-733312.pdf', 'F19PN-733311.pdf', 'F19PN-733307.pdf', 'F19PN-733330.pdf', 'F19PN-733329.pdf', 'F19PN-733318.pdf', 'F19PN-733328.pdf', 'F19PN-733319.pdf', 'F19PN-733310.pdf', 'F19OR-141652.pdf', 'F19OR-141653.pdf', 'F19PN-733317.pdf', 'F19PN-733316.pdf', 'F19PN-733315.pdf', 'F19PN-733314.pdf', 'F19OR-141644.pdf', 'F19OR-141643.pdf', 'F19OR-141642.pdf', 'F19OR-141641.pdf', 'F19PN-733358.pdf', 'F19PN-733356.pdf', 'NAVARRO.pdf', 'F19PN-733359.pdf', 'F19PN-733357.pdf', 'F19PN-733347.pdf', 'F19PN-733348.pdf'], '28-08-2018': ['MS', 'AGUASEO2.pdf', 'CRISTALINA.pdf', 'F19PN-733371.pdf', 'F19PN-733364.pdf', 'F19PN-733362.pdf', 'F19PN-733360.pdf', 'F19OR-141846.pdf', 'F19OR-141811.pdf', 'F19OR-141810.pdf', 'F19PN-733374.pdf', 'F19PN-733369.pdf', 'F19PN-733370.pdf', 'F19PN-733372.pdf', 'F19PN-733387.pdf', 'F19PN-733386.pdf', 'F19PN-733384.pdf', 'F19PN-733385.pdf', 'F19PN-733395.pdf', 'F19PN-733388.pdf', 'MENDEZ.pdf', 'F19PN-733390.pdf', 'F19PN-733389.pdf', 'F19PN-733393.pdf', 'F19PN-733394.pdf', 'F19OR-141816.pdf', 'F19OR-141844.pdf', 'F19OR-141817.pdf', 'F19OR-141815.pdf', 'F19OR-141814.pdf', 'F19OR-141812.pdf', 'F19OR-141813.pdf', 'F19PN-733392.pdf', 'F19PN-733391.pdf', 'F19PN-733376.pdf', 'F19PN-733373.pdf', 'F19PN-733375.pdf', 'F19PN-733382.pdf', 'F19PN-733383.pdf', 'F19PN-733381.pdf', 'F19PN-733380.pdf', 'F19PN-733379.pdf', 'F19PN-733378.pdf', 'F19PN-733377.pdf', 'F19PN-733368.pdf', 'F19PN-733367.pdf', 'F19PN-733366.pdf', 'F19OR-141807.pdf', 'AGUASEO1.pdf', 'F19PN-733365.pdf', 'F19PN-733363.pdf', 'F19PN-733361.pdf', 'F19OR-141845.pdf', 'F19OR-141809.pdf', 'F19OR-141808.pdf'], '29-08-2018': ['MS', 'F19PN-733412.pdf', 'F19PN-733405.pdf', 'F19PN-733400.pdf', 'F19PN-733397.pdf', 'F19OR-142002.pdf', 'F19PN-733396.pdf', 'F19PN-733414.pdf', 'F19PN-733411.pdf', 'F19PN-733413.pdf', 'F19PN-733409.pdf', 'F19PN-733410.pdf', 'F19PN-733407.pdf', 'F19PN-733408.pdf', 'F19PN-733404.pdf', 'F19PN-733406.pdf', 'F19PN-733403.pdf', 'F19PN-733398.pdf', 'F19OR-142000.pdf', 'F19OR-142001.pdf', 'F19OR-141932.pdf', 'F19OR-141933.pdf', 'F19PN-733402.pdf', 'F19PN-733401.pdf', 'F19PN-733399.pdf', 'CANAL.pdf'], '30-08-2018': ['F19PN-733424.pdf', 'F19PN-733423.pdf', 'F19PN-733418.pdf', 'F19PN-733420.pdf', 'F19PN-733419.pdf', 'F19PN-733417.pdf', 'F19OR-142006.pdf', 'F19PN-733415.pdf', 'F19PN-733416.pdf', 'F19PN-733422.pdf', 'F19OR-142005.pdf', 'F19PN-733421.pdf', 'F19OR-142004.pdf', 'F19OR-142003.pdf', '733197.pdf', '733016.pdf'], '31-08-2018': ['F19PN-733425.pdf', 'F19PN-733442.pdf', 'F19PN-733441.pdf', 'F19PN-733443.pdf', 'F19PN-733439.pdf', 'F19PN-733440.pdf', 'F19PN-733426.pdf', 'F19PN-733428.pdf', 'F19PN-733431.pdf', 'F19PN-733430.pdf', 'F19PN-733436.pdf', 'F19PN-733438.pdf', 'F19PN-733429.pdf', 'F19PN-733427.pdf', 'F19PN-733437.pdf', 'F19PN-733435.pdf', 'F19PN-733434.pdf', 'F19PN-733433.pdf', 'F19PN-733432.pdf']}\n"
          ],
          "name": "stdout"
        }
      ]
    },
    {
      "cell_type": "code",
      "metadata": {
        "id": "StfoCMKD1mI2",
        "colab_type": "code",
        "colab": {
          "base_uri": "https://localhost:8080/",
          "height": 54
        },
        "outputId": "17ed8c21-2b81-42b8-f547-cff1428185f6"
      },
      "source": [
        "print(sample_files_list.keys())"
      ],
      "execution_count": 131,
      "outputs": [
        {
          "output_type": "stream",
          "text": [
            "dict_keys(['01-08-2018', '02-08-2018', '03-08-2018', '04-08-2018', '05-08-2018', '06-08-2018', '07-08-2018', '08-08-2018', '09-08-2018', '10-08-2018', '11-08-2018', '12-08-2018', '13-08-2018', '14-08-2018', '15-08-2018', '16-08-2018', '17-08-2018', '18-08-2018', '19-08-2018', '20-08-2018', '21-08-2018', '22-08-2018', '23-08-2018', '24-08-2018', '25-08-2018', '26-08-2018', '27-08-2018', '28-08-2018', '29-08-2018', '30-08-2018', '31-08-2018'])\n"
          ],
          "name": "stdout"
        }
      ]
    },
    {
      "cell_type": "code",
      "metadata": {
        "id": "o5ZGclPS1qXo",
        "colab_type": "code",
        "colab": {
          "base_uri": "https://localhost:8080/",
          "height": 224
        },
        "outputId": "3b46f2dc-26d1-46df-aebd-c479f228e943"
      },
      "source": [
        "!pip install pdf2image\n",
        "import pdf2image"
      ],
      "execution_count": 144,
      "outputs": [
        {
          "output_type": "stream",
          "text": [
            "Collecting pdf2image\n",
            "  Downloading https://files.pythonhosted.org/packages/6d/3d/0e0f8922fa472769022245a76d71ba85277eded7650c560436a143a43f58/pdf2image-1.10.0.tar.gz\n",
            "Requirement already satisfied: pillow in /usr/local/lib/python3.6/dist-packages (from pdf2image) (4.3.0)\n",
            "Requirement already satisfied: olefile in /usr/local/lib/python3.6/dist-packages (from pillow->pdf2image) (0.46)\n",
            "Building wheels for collected packages: pdf2image\n",
            "  Building wheel for pdf2image (setup.py) ... \u001b[?25l\u001b[?25hdone\n",
            "  Created wheel for pdf2image: filename=pdf2image-1.10.0-cp36-none-any.whl size=8234 sha256=cbcb218f26930c12b7f825b50b666beb3758f986cd5a3d89eaa74686f42b5c9e\n",
            "  Stored in directory: /root/.cache/pip/wheels/8d/c7/5a/4f4aa51087743028833180b3d6fc1a650d7344d3ccc96edf9c\n",
            "Successfully built pdf2image\n",
            "Installing collected packages: pdf2image\n",
            "Successfully installed pdf2image-1.10.0\n"
          ],
          "name": "stdout"
        }
      ]
    },
    {
      "cell_type": "markdown",
      "metadata": {
        "id": "JtwPHD3P9dJb",
        "colab_type": "text"
      },
      "source": [
        ""
      ]
    },
    {
      "cell_type": "code",
      "metadata": {
        "id": "s8Z56QyK6WfC",
        "colab_type": "code",
        "colab": {}
      },
      "source": [
        "from pdf2image import convert_from_path, convert_from_bytes\n",
        "from pdf2image.exceptions import (\n",
        "    PDFInfoNotInstalledError,\n",
        "    PDFPageCountError,\n",
        "    PDFSyntaxError\n",
        ")"
      ],
      "execution_count": 0,
      "outputs": []
    },
    {
      "cell_type": "code",
      "metadata": {
        "id": "xnilfVH_8ZsY",
        "colab_type": "code",
        "colab": {
          "base_uri": "https://localhost:8080/",
          "height": 425
        },
        "outputId": "4a2643ad-236b-4131-921e-e77befe3b3cc"
      },
      "source": [
        "images = convert_from_path('F19OR-140242.pdf')"
      ],
      "execution_count": 150,
      "outputs": [
        {
          "output_type": "error",
          "ename": "PDFInfoNotInstalledError",
          "evalue": "ignored",
          "traceback": [
            "\u001b[0;31m---------------------------------------------------------------------------\u001b[0m",
            "\u001b[0;31mFileNotFoundError\u001b[0m                         Traceback (most recent call last)",
            "\u001b[0;32m/usr/local/lib/python3.6/dist-packages/pdf2image/pdf2image.py\u001b[0m in \u001b[0;36m_page_count\u001b[0;34m(pdf_path, userpw, poppler_path)\u001b[0m\n\u001b[1;32m    354\u001b[0m             \u001b[0menv\u001b[0m\u001b[0;34m[\u001b[0m\u001b[0;34m\"LD_LIBRARY_PATH\"\u001b[0m\u001b[0;34m]\u001b[0m \u001b[0;34m=\u001b[0m \u001b[0mpoppler_path\u001b[0m \u001b[0;34m+\u001b[0m \u001b[0;34m\":\"\u001b[0m \u001b[0;34m+\u001b[0m \u001b[0menv\u001b[0m\u001b[0;34m.\u001b[0m\u001b[0mget\u001b[0m\u001b[0;34m(\u001b[0m\u001b[0;34m\"LD_LIBRARY_PATH\"\u001b[0m\u001b[0;34m,\u001b[0m \u001b[0;34m\"\"\u001b[0m\u001b[0;34m)\u001b[0m\u001b[0;34m\u001b[0m\u001b[0;34m\u001b[0m\u001b[0m\n\u001b[0;32m--> 355\u001b[0;31m         \u001b[0mproc\u001b[0m \u001b[0;34m=\u001b[0m \u001b[0mPopen\u001b[0m\u001b[0;34m(\u001b[0m\u001b[0mcommand\u001b[0m\u001b[0;34m,\u001b[0m \u001b[0menv\u001b[0m\u001b[0;34m=\u001b[0m\u001b[0menv\u001b[0m\u001b[0;34m,\u001b[0m \u001b[0mstdout\u001b[0m\u001b[0;34m=\u001b[0m\u001b[0mPIPE\u001b[0m\u001b[0;34m,\u001b[0m \u001b[0mstderr\u001b[0m\u001b[0;34m=\u001b[0m\u001b[0mPIPE\u001b[0m\u001b[0;34m)\u001b[0m\u001b[0;34m\u001b[0m\u001b[0;34m\u001b[0m\u001b[0m\n\u001b[0m\u001b[1;32m    356\u001b[0m \u001b[0;34m\u001b[0m\u001b[0m\n",
            "\u001b[0;32m/usr/lib/python3.6/subprocess.py\u001b[0m in \u001b[0;36m__init__\u001b[0;34m(self, args, bufsize, executable, stdin, stdout, stderr, preexec_fn, close_fds, shell, cwd, env, universal_newlines, startupinfo, creationflags, restore_signals, start_new_session, pass_fds, encoding, errors)\u001b[0m\n\u001b[1;32m    728\u001b[0m                                 \u001b[0merrread\u001b[0m\u001b[0;34m,\u001b[0m \u001b[0merrwrite\u001b[0m\u001b[0;34m,\u001b[0m\u001b[0;34m\u001b[0m\u001b[0;34m\u001b[0m\u001b[0m\n\u001b[0;32m--> 729\u001b[0;31m                                 restore_signals, start_new_session)\n\u001b[0m\u001b[1;32m    730\u001b[0m         \u001b[0;32mexcept\u001b[0m\u001b[0;34m:\u001b[0m\u001b[0;34m\u001b[0m\u001b[0;34m\u001b[0m\u001b[0m\n",
            "\u001b[0;32m/usr/lib/python3.6/subprocess.py\u001b[0m in \u001b[0;36m_execute_child\u001b[0;34m(self, args, executable, preexec_fn, close_fds, pass_fds, cwd, env, startupinfo, creationflags, shell, p2cread, p2cwrite, c2pread, c2pwrite, errread, errwrite, restore_signals, start_new_session)\u001b[0m\n\u001b[1;32m   1363\u001b[0m                             \u001b[0merr_msg\u001b[0m \u001b[0;34m+=\u001b[0m \u001b[0;34m': '\u001b[0m \u001b[0;34m+\u001b[0m \u001b[0mrepr\u001b[0m\u001b[0;34m(\u001b[0m\u001b[0merr_filename\u001b[0m\u001b[0;34m)\u001b[0m\u001b[0;34m\u001b[0m\u001b[0;34m\u001b[0m\u001b[0m\n\u001b[0;32m-> 1364\u001b[0;31m                     \u001b[0;32mraise\u001b[0m \u001b[0mchild_exception_type\u001b[0m\u001b[0;34m(\u001b[0m\u001b[0merrno_num\u001b[0m\u001b[0;34m,\u001b[0m \u001b[0merr_msg\u001b[0m\u001b[0;34m,\u001b[0m \u001b[0merr_filename\u001b[0m\u001b[0;34m)\u001b[0m\u001b[0;34m\u001b[0m\u001b[0;34m\u001b[0m\u001b[0m\n\u001b[0m\u001b[1;32m   1365\u001b[0m                 \u001b[0;32mraise\u001b[0m \u001b[0mchild_exception_type\u001b[0m\u001b[0;34m(\u001b[0m\u001b[0merr_msg\u001b[0m\u001b[0;34m)\u001b[0m\u001b[0;34m\u001b[0m\u001b[0;34m\u001b[0m\u001b[0m\n",
            "\u001b[0;31mFileNotFoundError\u001b[0m: [Errno 2] No such file or directory: 'pdfinfo': 'pdfinfo'",
            "\nDuring handling of the above exception, another exception occurred:\n",
            "\u001b[0;31mPDFInfoNotInstalledError\u001b[0m                  Traceback (most recent call last)",
            "\u001b[0;32m<ipython-input-150-26b6bf098b06>\u001b[0m in \u001b[0;36m<module>\u001b[0;34m()\u001b[0m\n\u001b[0;32m----> 1\u001b[0;31m \u001b[0mimages\u001b[0m \u001b[0;34m=\u001b[0m \u001b[0mconvert_from_path\u001b[0m\u001b[0;34m(\u001b[0m\u001b[0;34m'F19OR-140242.pdf'\u001b[0m\u001b[0;34m)\u001b[0m\u001b[0;34m\u001b[0m\u001b[0;34m\u001b[0m\u001b[0m\n\u001b[0m",
            "\u001b[0;32m/usr/local/lib/python3.6/dist-packages/pdf2image/pdf2image.py\u001b[0m in \u001b[0;36mconvert_from_path\u001b[0;34m(pdf_path, dpi, output_folder, first_page, last_page, fmt, thread_count, userpw, use_cropbox, strict, transparent, single_file, output_file, poppler_path, grayscale, size, paths_only)\u001b[0m\n\u001b[1;32m     80\u001b[0m         \u001b[0mpoppler_path\u001b[0m \u001b[0;34m=\u001b[0m \u001b[0mpoppler_path\u001b[0m\u001b[0;34m.\u001b[0m\u001b[0mas_posix\u001b[0m\u001b[0;34m(\u001b[0m\u001b[0;34m)\u001b[0m\u001b[0;34m\u001b[0m\u001b[0;34m\u001b[0m\u001b[0m\n\u001b[1;32m     81\u001b[0m \u001b[0;34m\u001b[0m\u001b[0m\n\u001b[0;32m---> 82\u001b[0;31m     \u001b[0mpage_count\u001b[0m \u001b[0;34m=\u001b[0m \u001b[0m_page_count\u001b[0m\u001b[0;34m(\u001b[0m\u001b[0mpdf_path\u001b[0m\u001b[0;34m,\u001b[0m \u001b[0muserpw\u001b[0m\u001b[0;34m,\u001b[0m \u001b[0mpoppler_path\u001b[0m\u001b[0;34m=\u001b[0m\u001b[0mpoppler_path\u001b[0m\u001b[0;34m)\u001b[0m\u001b[0;34m\u001b[0m\u001b[0;34m\u001b[0m\u001b[0m\n\u001b[0m\u001b[1;32m     83\u001b[0m \u001b[0;34m\u001b[0m\u001b[0m\n\u001b[1;32m     84\u001b[0m     \u001b[0;31m# We start by getting the output format, the buffer processing function and if we need pdftocairo\u001b[0m\u001b[0;34m\u001b[0m\u001b[0;34m\u001b[0m\u001b[0;34m\u001b[0m\u001b[0m\n",
            "\u001b[0;32m/usr/local/lib/python3.6/dist-packages/pdf2image/pdf2image.py\u001b[0m in \u001b[0;36m_page_count\u001b[0;34m(pdf_path, userpw, poppler_path)\u001b[0m\n\u001b[1;32m    358\u001b[0m     \u001b[0;32mexcept\u001b[0m\u001b[0;34m:\u001b[0m\u001b[0;34m\u001b[0m\u001b[0;34m\u001b[0m\u001b[0m\n\u001b[1;32m    359\u001b[0m         raise PDFInfoNotInstalledError(\n\u001b[0;32m--> 360\u001b[0;31m             \u001b[0;34m\"Unable to get page count. Is poppler installed and in PATH?\"\u001b[0m\u001b[0;34m\u001b[0m\u001b[0;34m\u001b[0m\u001b[0m\n\u001b[0m\u001b[1;32m    361\u001b[0m         )\n\u001b[1;32m    362\u001b[0m \u001b[0;34m\u001b[0m\u001b[0m\n",
            "\u001b[0;31mPDFInfoNotInstalledError\u001b[0m: Unable to get page count. Is poppler installed and in PATH?"
          ]
        }
      ]
    },
    {
      "cell_type": "code",
      "metadata": {
        "id": "19mPGx31Az2q",
        "colab_type": "code",
        "colab": {
          "base_uri": "https://localhost:8080/",
          "height": 51
        },
        "outputId": "c2e1a9f5-ce7c-49d0-faf2-39f883426ed2"
      },
      "source": [
        "!pip install easyPDFConverter"
      ],
      "execution_count": 152,
      "outputs": [
        {
          "output_type": "stream",
          "text": [
            "\u001b[31mERROR: Could not find a version that satisfies the requirement easyPDFConverter (from versions: none)\u001b[0m\n",
            "\u001b[31mERROR: No matching distribution found for easyPDFConverter\u001b[0m\n"
          ],
          "name": "stdout"
        }
      ]
    },
    {
      "cell_type": "code",
      "metadata": {
        "id": "4PxxLxLU9M_V",
        "colab_type": "code",
        "colab": {}
      },
      "source": [
        "os.chdir('/content/drive/My Drive/TERPEL/MESES DEL AÑO 2019/AGOSTO DEL AÑO 2019/01-08-2018')"
      ],
      "execution_count": 0,
      "outputs": []
    },
    {
      "cell_type": "code",
      "metadata": {
        "id": "hpczCc-J9aDh",
        "colab_type": "code",
        "colab": {
          "base_uri": "https://localhost:8080/",
          "height": 387
        },
        "outputId": "896a62b4-babf-48e7-9cea-cdd85aa7e882"
      },
      "source": [
        "import easyPDFConverter\n",
        "converter = easyPDFConverter.PDFConverter()\n",
        "try:\n",
        "   pdf2image = converter.getPDF2Image()\n",
        "   pdf2image.Convert('/content/drive/My Drive/TERPEL/MESES DEL AÑO 2019/AGOSTO DEL AÑO 2019/01-08-2018/F19OR-140242.pdf', \"\", -1, -1)\n",
        "except easyPDFConverter.PDFConverterException as ex:\n",
        "   print(ex)"
      ],
      "execution_count": 151,
      "outputs": [
        {
          "output_type": "error",
          "ename": "ModuleNotFoundError",
          "evalue": "ignored",
          "traceback": [
            "\u001b[0;31m---------------------------------------------------------------------------\u001b[0m",
            "\u001b[0;31mModuleNotFoundError\u001b[0m                       Traceback (most recent call last)",
            "\u001b[0;32m<ipython-input-151-b38d449663a3>\u001b[0m in \u001b[0;36m<module>\u001b[0;34m()\u001b[0m\n\u001b[0;32m----> 1\u001b[0;31m \u001b[0;32mimport\u001b[0m \u001b[0measyPDFConverter\u001b[0m\u001b[0;34m\u001b[0m\u001b[0;34m\u001b[0m\u001b[0m\n\u001b[0m\u001b[1;32m      2\u001b[0m \u001b[0mconverter\u001b[0m \u001b[0;34m=\u001b[0m \u001b[0measyPDFConverter\u001b[0m\u001b[0;34m.\u001b[0m\u001b[0mPDFConverter\u001b[0m\u001b[0;34m(\u001b[0m\u001b[0;34m)\u001b[0m\u001b[0;34m\u001b[0m\u001b[0;34m\u001b[0m\u001b[0m\n\u001b[1;32m      3\u001b[0m \u001b[0;32mtry\u001b[0m\u001b[0;34m:\u001b[0m\u001b[0;34m\u001b[0m\u001b[0;34m\u001b[0m\u001b[0m\n\u001b[1;32m      4\u001b[0m    \u001b[0mpdf2image\u001b[0m \u001b[0;34m=\u001b[0m \u001b[0mconverter\u001b[0m\u001b[0;34m.\u001b[0m\u001b[0mgetPDF2Image\u001b[0m\u001b[0;34m(\u001b[0m\u001b[0;34m)\u001b[0m\u001b[0;34m\u001b[0m\u001b[0;34m\u001b[0m\u001b[0m\n\u001b[1;32m      5\u001b[0m    \u001b[0mpdf2image\u001b[0m\u001b[0;34m.\u001b[0m\u001b[0mConvert\u001b[0m\u001b[0;34m(\u001b[0m\u001b[0;34m'/content/drive/My Drive/TERPEL/MESES DEL AÑO 2019/AGOSTO DEL AÑO 2019/01-08-2018/F19OR-140242.pdf'\u001b[0m\u001b[0;34m,\u001b[0m \u001b[0;34m\"\"\u001b[0m\u001b[0;34m,\u001b[0m \u001b[0;34m-\u001b[0m\u001b[0;36m1\u001b[0m\u001b[0;34m,\u001b[0m \u001b[0;34m-\u001b[0m\u001b[0;36m1\u001b[0m\u001b[0;34m)\u001b[0m\u001b[0;34m\u001b[0m\u001b[0;34m\u001b[0m\u001b[0m\n",
            "\u001b[0;31mModuleNotFoundError\u001b[0m: No module named 'easyPDFConverter'",
            "",
            "\u001b[0;31m---------------------------------------------------------------------------\u001b[0;32m\nNOTE: If your import is failing due to a missing package, you can\nmanually install dependencies using either !pip or !apt.\n\nTo view examples of installing some common dependencies, click the\n\"Open Examples\" button below.\n\u001b[0;31m---------------------------------------------------------------------------\u001b[0m\n"
          ]
        }
      ]
    },
    {
      "cell_type": "code",
      "metadata": {
        "id": "Jq3ZFKk_A846",
        "colab_type": "code",
        "colab": {}
      },
      "source": [
        "from pdf2image import convert_from_path\n",
        "import glob"
      ],
      "execution_count": 0,
      "outputs": []
    },
    {
      "cell_type": "code",
      "metadata": {
        "id": "oVxzejDVCluD",
        "colab_type": "code",
        "colab": {}
      },
      "source": [
        "def pdftoImg(ruta):\n",
        "   for file in glob.glob(str(ruta)+\"/*.pdf\"):      \n",
        " \n",
        "       pages = convert_from_path(file,output_folder=None, last_page=None, first_page =None)\n",
        "       index=1\n",
        "       save_dir='/content/drive/My Drive/TERPEL/MESES DEL AÑO 2019/AGOSTO DEL AÑO 2019/01-08-2018/imgs-pdfs'\n",
        "       for page in pages:\n",
        "           nombre_pdf =os.path.splitext(os.path.basename(file))[0]\n",
        "           page.save(os.path.join(save_dir,str(nombre_pdf)+\"_Pag\"+str(index)+\".jpg\"))\n",
        "           index+=1"
      ],
      "execution_count": 0,
      "outputs": []
    },
    {
      "cell_type": "code",
      "metadata": {
        "id": "1buaToM2DFK5",
        "colab_type": "code",
        "colab": {
          "base_uri": "https://localhost:8080/",
          "height": 425
        },
        "outputId": "9e5739b7-5f2a-4b53-86aa-0390931a2562"
      },
      "source": [
        "pdftoImg('/content/drive/My Drive/TERPEL/MESES DEL AÑO 2019/AGOSTO DEL AÑO 2019/01-08-2018')"
      ],
      "execution_count": 161,
      "outputs": [
        {
          "output_type": "error",
          "ename": "PDFInfoNotInstalledError",
          "evalue": "ignored",
          "traceback": [
            "\u001b[0;31m---------------------------------------------------------------------------\u001b[0m",
            "\u001b[0;31mFileNotFoundError\u001b[0m                         Traceback (most recent call last)",
            "\u001b[0;32m/usr/local/lib/python3.6/dist-packages/pdf2image/pdf2image.py\u001b[0m in \u001b[0;36m_page_count\u001b[0;34m(pdf_path, userpw, poppler_path)\u001b[0m\n\u001b[1;32m    354\u001b[0m             \u001b[0menv\u001b[0m\u001b[0;34m[\u001b[0m\u001b[0;34m\"LD_LIBRARY_PATH\"\u001b[0m\u001b[0;34m]\u001b[0m \u001b[0;34m=\u001b[0m \u001b[0mpoppler_path\u001b[0m \u001b[0;34m+\u001b[0m \u001b[0;34m\":\"\u001b[0m \u001b[0;34m+\u001b[0m \u001b[0menv\u001b[0m\u001b[0;34m.\u001b[0m\u001b[0mget\u001b[0m\u001b[0;34m(\u001b[0m\u001b[0;34m\"LD_LIBRARY_PATH\"\u001b[0m\u001b[0;34m,\u001b[0m \u001b[0;34m\"\"\u001b[0m\u001b[0;34m)\u001b[0m\u001b[0;34m\u001b[0m\u001b[0;34m\u001b[0m\u001b[0m\n\u001b[0;32m--> 355\u001b[0;31m         \u001b[0mproc\u001b[0m \u001b[0;34m=\u001b[0m \u001b[0mPopen\u001b[0m\u001b[0;34m(\u001b[0m\u001b[0mcommand\u001b[0m\u001b[0;34m,\u001b[0m \u001b[0menv\u001b[0m\u001b[0;34m=\u001b[0m\u001b[0menv\u001b[0m\u001b[0;34m,\u001b[0m \u001b[0mstdout\u001b[0m\u001b[0;34m=\u001b[0m\u001b[0mPIPE\u001b[0m\u001b[0;34m,\u001b[0m \u001b[0mstderr\u001b[0m\u001b[0;34m=\u001b[0m\u001b[0mPIPE\u001b[0m\u001b[0;34m)\u001b[0m\u001b[0;34m\u001b[0m\u001b[0;34m\u001b[0m\u001b[0m\n\u001b[0m\u001b[1;32m    356\u001b[0m \u001b[0;34m\u001b[0m\u001b[0m\n",
            "\u001b[0;32m/usr/lib/python3.6/subprocess.py\u001b[0m in \u001b[0;36m__init__\u001b[0;34m(self, args, bufsize, executable, stdin, stdout, stderr, preexec_fn, close_fds, shell, cwd, env, universal_newlines, startupinfo, creationflags, restore_signals, start_new_session, pass_fds, encoding, errors)\u001b[0m\n\u001b[1;32m    728\u001b[0m                                 \u001b[0merrread\u001b[0m\u001b[0;34m,\u001b[0m \u001b[0merrwrite\u001b[0m\u001b[0;34m,\u001b[0m\u001b[0;34m\u001b[0m\u001b[0;34m\u001b[0m\u001b[0m\n\u001b[0;32m--> 729\u001b[0;31m                                 restore_signals, start_new_session)\n\u001b[0m\u001b[1;32m    730\u001b[0m         \u001b[0;32mexcept\u001b[0m\u001b[0;34m:\u001b[0m\u001b[0;34m\u001b[0m\u001b[0;34m\u001b[0m\u001b[0m\n",
            "\u001b[0;32m/usr/lib/python3.6/subprocess.py\u001b[0m in \u001b[0;36m_execute_child\u001b[0;34m(self, args, executable, preexec_fn, close_fds, pass_fds, cwd, env, startupinfo, creationflags, shell, p2cread, p2cwrite, c2pread, c2pwrite, errread, errwrite, restore_signals, start_new_session)\u001b[0m\n\u001b[1;32m   1363\u001b[0m                             \u001b[0merr_msg\u001b[0m \u001b[0;34m+=\u001b[0m \u001b[0;34m': '\u001b[0m \u001b[0;34m+\u001b[0m \u001b[0mrepr\u001b[0m\u001b[0;34m(\u001b[0m\u001b[0merr_filename\u001b[0m\u001b[0;34m)\u001b[0m\u001b[0;34m\u001b[0m\u001b[0;34m\u001b[0m\u001b[0m\n\u001b[0;32m-> 1364\u001b[0;31m                     \u001b[0;32mraise\u001b[0m \u001b[0mchild_exception_type\u001b[0m\u001b[0;34m(\u001b[0m\u001b[0merrno_num\u001b[0m\u001b[0;34m,\u001b[0m \u001b[0merr_msg\u001b[0m\u001b[0;34m,\u001b[0m \u001b[0merr_filename\u001b[0m\u001b[0;34m)\u001b[0m\u001b[0;34m\u001b[0m\u001b[0;34m\u001b[0m\u001b[0m\n\u001b[0m\u001b[1;32m   1365\u001b[0m                 \u001b[0;32mraise\u001b[0m \u001b[0mchild_exception_type\u001b[0m\u001b[0;34m(\u001b[0m\u001b[0merr_msg\u001b[0m\u001b[0;34m)\u001b[0m\u001b[0;34m\u001b[0m\u001b[0;34m\u001b[0m\u001b[0m\n",
            "\u001b[0;31mFileNotFoundError\u001b[0m: [Errno 2] No such file or directory: 'pdfinfo': 'pdfinfo'",
            "\nDuring handling of the above exception, another exception occurred:\n",
            "\u001b[0;31mPDFInfoNotInstalledError\u001b[0m                  Traceback (most recent call last)",
            "\u001b[0;32m<ipython-input-161-adf72287d7e0>\u001b[0m in \u001b[0;36m<module>\u001b[0;34m()\u001b[0m\n\u001b[0;32m----> 1\u001b[0;31m \u001b[0mpdftoImg\u001b[0m\u001b[0;34m(\u001b[0m\u001b[0;34m'/content/drive/My Drive/TERPEL/MESES DEL AÑO 2019/AGOSTO DEL AÑO 2019/01-08-2018'\u001b[0m\u001b[0;34m)\u001b[0m\u001b[0;34m\u001b[0m\u001b[0;34m\u001b[0m\u001b[0m\n\u001b[0m",
            "\u001b[0;32m<ipython-input-158-079fd063e8b2>\u001b[0m in \u001b[0;36mpdftoImg\u001b[0;34m(ruta)\u001b[0m\n\u001b[1;32m      2\u001b[0m    \u001b[0;32mfor\u001b[0m \u001b[0mfile\u001b[0m \u001b[0;32min\u001b[0m \u001b[0mglob\u001b[0m\u001b[0;34m.\u001b[0m\u001b[0mglob\u001b[0m\u001b[0;34m(\u001b[0m\u001b[0mstr\u001b[0m\u001b[0;34m(\u001b[0m\u001b[0mruta\u001b[0m\u001b[0;34m)\u001b[0m\u001b[0;34m+\u001b[0m\u001b[0;34m\"/*.pdf\"\u001b[0m\u001b[0;34m)\u001b[0m\u001b[0;34m:\u001b[0m\u001b[0;34m\u001b[0m\u001b[0;34m\u001b[0m\u001b[0m\n\u001b[1;32m      3\u001b[0m \u001b[0;34m\u001b[0m\u001b[0m\n\u001b[0;32m----> 4\u001b[0;31m        \u001b[0mpages\u001b[0m \u001b[0;34m=\u001b[0m \u001b[0mconvert_from_path\u001b[0m\u001b[0;34m(\u001b[0m\u001b[0mfile\u001b[0m\u001b[0;34m,\u001b[0m\u001b[0moutput_folder\u001b[0m\u001b[0;34m=\u001b[0m\u001b[0;32mNone\u001b[0m\u001b[0;34m,\u001b[0m \u001b[0mlast_page\u001b[0m\u001b[0;34m=\u001b[0m\u001b[0;32mNone\u001b[0m\u001b[0;34m,\u001b[0m \u001b[0mfirst_page\u001b[0m \u001b[0;34m=\u001b[0m\u001b[0;32mNone\u001b[0m\u001b[0;34m)\u001b[0m\u001b[0;34m\u001b[0m\u001b[0;34m\u001b[0m\u001b[0m\n\u001b[0m\u001b[1;32m      5\u001b[0m        \u001b[0mindex\u001b[0m\u001b[0;34m=\u001b[0m\u001b[0;36m1\u001b[0m\u001b[0;34m\u001b[0m\u001b[0;34m\u001b[0m\u001b[0m\n\u001b[1;32m      6\u001b[0m        \u001b[0msave_dir\u001b[0m\u001b[0;34m=\u001b[0m\u001b[0;34m'/content/drive/My Drive/TERPEL/MESES DEL AÑO 2019/AGOSTO DEL AÑO 2019/01-08-2018/imgs-pdfs'\u001b[0m\u001b[0;34m\u001b[0m\u001b[0;34m\u001b[0m\u001b[0m\n",
            "\u001b[0;32m/usr/local/lib/python3.6/dist-packages/pdf2image/pdf2image.py\u001b[0m in \u001b[0;36mconvert_from_path\u001b[0;34m(pdf_path, dpi, output_folder, first_page, last_page, fmt, thread_count, userpw, use_cropbox, strict, transparent, single_file, output_file, poppler_path, grayscale, size, paths_only)\u001b[0m\n\u001b[1;32m     80\u001b[0m         \u001b[0mpoppler_path\u001b[0m \u001b[0;34m=\u001b[0m \u001b[0mpoppler_path\u001b[0m\u001b[0;34m.\u001b[0m\u001b[0mas_posix\u001b[0m\u001b[0;34m(\u001b[0m\u001b[0;34m)\u001b[0m\u001b[0;34m\u001b[0m\u001b[0;34m\u001b[0m\u001b[0m\n\u001b[1;32m     81\u001b[0m \u001b[0;34m\u001b[0m\u001b[0m\n\u001b[0;32m---> 82\u001b[0;31m     \u001b[0mpage_count\u001b[0m \u001b[0;34m=\u001b[0m \u001b[0m_page_count\u001b[0m\u001b[0;34m(\u001b[0m\u001b[0mpdf_path\u001b[0m\u001b[0;34m,\u001b[0m \u001b[0muserpw\u001b[0m\u001b[0;34m,\u001b[0m \u001b[0mpoppler_path\u001b[0m\u001b[0;34m=\u001b[0m\u001b[0mpoppler_path\u001b[0m\u001b[0;34m)\u001b[0m\u001b[0;34m\u001b[0m\u001b[0;34m\u001b[0m\u001b[0m\n\u001b[0m\u001b[1;32m     83\u001b[0m \u001b[0;34m\u001b[0m\u001b[0m\n\u001b[1;32m     84\u001b[0m     \u001b[0;31m# We start by getting the output format, the buffer processing function and if we need pdftocairo\u001b[0m\u001b[0;34m\u001b[0m\u001b[0;34m\u001b[0m\u001b[0;34m\u001b[0m\u001b[0m\n",
            "\u001b[0;32m/usr/local/lib/python3.6/dist-packages/pdf2image/pdf2image.py\u001b[0m in \u001b[0;36m_page_count\u001b[0;34m(pdf_path, userpw, poppler_path)\u001b[0m\n\u001b[1;32m    358\u001b[0m     \u001b[0;32mexcept\u001b[0m\u001b[0;34m:\u001b[0m\u001b[0;34m\u001b[0m\u001b[0;34m\u001b[0m\u001b[0m\n\u001b[1;32m    359\u001b[0m         raise PDFInfoNotInstalledError(\n\u001b[0;32m--> 360\u001b[0;31m             \u001b[0;34m\"Unable to get page count. Is poppler installed and in PATH?\"\u001b[0m\u001b[0;34m\u001b[0m\u001b[0;34m\u001b[0m\u001b[0m\n\u001b[0m\u001b[1;32m    361\u001b[0m         )\n\u001b[1;32m    362\u001b[0m \u001b[0;34m\u001b[0m\u001b[0m\n",
            "\u001b[0;31mPDFInfoNotInstalledError\u001b[0m: Unable to get page count. Is poppler installed and in PATH?"
          ]
        }
      ]
    },
    {
      "cell_type": "code",
      "metadata": {
        "id": "xyNShp4hDNAx",
        "colab_type": "code",
        "colab": {}
      },
      "source": [
        ""
      ],
      "execution_count": 0,
      "outputs": []
    }
  ]
}